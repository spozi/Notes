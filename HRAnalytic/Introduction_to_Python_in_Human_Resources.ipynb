{
  "nbformat": 4,
  "nbformat_minor": 0,
  "metadata": {
    "colab": {
      "provenance": [],
      "collapsed_sections": [
        "bh8HuM6buiwS"
      ],
      "authorship_tag": "ABX9TyME3TTc9PiN7eAdxC1L/AWH",
      "include_colab_link": true
    },
    "kernelspec": {
      "name": "python3",
      "display_name": "Python 3"
    },
    "language_info": {
      "name": "python"
    }
  },
  "cells": [
    {
      "cell_type": "markdown",
      "metadata": {
        "id": "view-in-github",
        "colab_type": "text"
      },
      "source": [
        "<a href=\"https://colab.research.google.com/github/spozi/Notes/blob/main/Introduction_to_Python_in_Human_Resources.ipynb\" target=\"_parent\"><img src=\"https://colab.research.google.com/assets/colab-badge.svg\" alt=\"Open In Colab\"/></a>"
      ]
    },
    {
      "cell_type": "markdown",
      "source": [
        "# ***Introduction to Python in Human Resources Field***\n",
        "\n",
        "In this introductory lesson to Python in Human Resources field, we are going to fulfill the following learning objectives:\n",
        "\n",
        "## ***Learning Objectives***\n",
        "\n",
        "\n",
        "\n",
        "*   To understand common syntax in programming with Python\n",
        "*   To understand commonly used Python Data Structure\n",
        "*   To develop a simple program in solving specific Human Resource task\n",
        "\n"
      ],
      "metadata": {
        "id": "o1q-lrnfDRyS"
      }
    },
    {
      "cell_type": "markdown",
      "source": [
        "# Crash course into Python\n",
        "\n",
        "## History\n",
        "Python is a popular programming language. It was created by Guido van Rossum, and released in 1991.\n",
        "\n",
        "It is used for:\n",
        "*   web development (server-side),\n",
        "*   software development,\n",
        "*   mathematics,\n",
        "*   system scripting\n",
        "\n",
        "Today, we are going to cover essential knowledge in Python, focusing on specific application in Human Resource field.\n",
        "\n",
        "Before that, let's start a little bit foundation in Python, starting with Hello World"
      ],
      "metadata": {
        "id": "C3TGg8DWa2kW"
      }
    },
    {
      "cell_type": "code",
      "execution_count": null,
      "metadata": {
        "colab": {
          "base_uri": "https://localhost:8080/"
        },
        "id": "puuv0LBFS0LF",
        "outputId": "7892c7f5-8faf-447f-f749-de8cf9a6b8a5"
      },
      "outputs": [
        {
          "output_type": "stream",
          "name": "stdout",
          "text": [
            "HelloWorld\n"
          ]
        }
      ],
      "source": [
        "a = \"Hello\"\n",
        "b = \" World\"\n",
        "print(a+b)"
      ]
    },
    {
      "cell_type": "markdown",
      "source": [
        "What we have done? We create 2 variables, variable `a` and assign \"Hello\" to it, and variable `b` and assign \" World\" to it. Note that, both variables are type str. You can check it with `type()`"
      ],
      "metadata": {
        "id": "O9lRhAQWdc_l"
      }
    },
    {
      "cell_type": "code",
      "source": [
        "type(a)"
      ],
      "metadata": {
        "colab": {
          "base_uri": "https://localhost:8080/"
        },
        "id": "eKl6pUmRgTC6",
        "outputId": "c7145ccd-01c7-4bae-f29e-85cca762bb2b"
      },
      "execution_count": null,
      "outputs": [
        {
          "output_type": "execute_result",
          "data": {
            "text/plain": [
              "str"
            ]
          },
          "metadata": {},
          "execution_count": 2
        }
      ]
    },
    {
      "cell_type": "markdown",
      "source": [
        "Python can automatically deduce the variable based on the value assigned to it.\n",
        "\n",
        "## Exercise 1:\n",
        "Deduce the variable type for the following values:\n",
        "\n",
        "*   3\n",
        "*   3.14\n",
        "*   \"Selamat Pagi\""
      ],
      "metadata": {
        "id": "xgszDL7vgrFq"
      }
    },
    {
      "cell_type": "code",
      "source": [
        "#Exercise 1:"
      ],
      "metadata": {
        "id": "cQmW9zhbjT13"
      },
      "execution_count": null,
      "outputs": []
    },
    {
      "cell_type": "markdown",
      "source": [
        "# [Control Flow](https://dotnettutorials.net/wp-content/uploads/2020/08/If-Statement-Control-Flow-in-Java.png)\n",
        "\n",
        "In general, control flow in Python, such as If Else looks like this:\n",
        "```\n",
        "# if <condition>:\n",
        "  <expression>\n",
        "  <expression>\n",
        "else:\n",
        "  <expression>\n",
        "  <expression>\n",
        "```\n",
        "\n"
      ],
      "metadata": {
        "id": "mAdUTUNRjZlP"
      }
    },
    {
      "cell_type": "code",
      "source": [
        "a = 5\n",
        "if a > 10:\n",
        "    print('a is greater than 10')\n",
        "else:\n",
        "    print('a is less than 10')"
      ],
      "metadata": {
        "colab": {
          "base_uri": "https://localhost:8080/"
        },
        "id": "PYdwc-spr4sb",
        "outputId": "5450e5e9-6e45-47fc-a79c-ce5ae2812428"
      },
      "execution_count": null,
      "outputs": [
        {
          "output_type": "stream",
          "name": "stdout",
          "text": [
            "a is less than 10\n"
          ]
        }
      ]
    },
    {
      "cell_type": "markdown",
      "source": [
        "## Indentation\n",
        "Indentation and space management is very important in writing clean Python code. Notice, in previous code, `print` has more left margin than `if` statement. \n",
        "\n",
        "* Indentation has a very specific role in Python and is **important**!\n",
        "* It is used as alternative to parenthesis, and getting it wrong will cause errors.\n",
        "* Python 3 allows 4 spaces or tabs, but not both.\n",
        "* In Python, spaces are preferred according to the PEP 8 style guide.\n",
        "\n",
        "## Exercise 2: \n",
        "\n",
        "Given an integer, perform the following conditional actions:\n",
        "\n",
        "* If  is odd, print Weird\n",
        "* If  is even and in the inclusive range of  to , print Not Weird\n",
        "* If  is even and in the inclusive range of  to , print Weird\n",
        "* If  is even and greater than , print Not Weird"
      ],
      "metadata": {
        "id": "fzzRF9eFpVkn"
      }
    },
    {
      "cell_type": "code",
      "source": [
        "#Exercise 2:\n",
        "n = int(input().strip()) #This code will get user input from keyboard\n",
        "#Write code here"
      ],
      "metadata": {
        "colab": {
          "base_uri": "https://localhost:8080/"
        },
        "id": "XwlRBwHZuJ6s",
        "outputId": "7ce41958-383a-4d79-abf1-4cb52369c1ca"
      },
      "execution_count": 1,
      "outputs": [
        {
          "name": "stdout",
          "output_type": "stream",
          "text": [
            "3\n"
          ]
        }
      ]
    },
    {
      "cell_type": "markdown",
      "source": [
        "## Looping\n",
        "\n",
        "- Iterate over lists easily. `for` or `while` loops can be nested.\n",
        "- Example of list = `[30, \"Developer\", \"UUM\", 2021]` \n",
        "- BUT, in many cases for loops don't scale well and are slower than alternate methods involving functions. \n",
        "- BUT, don't worry about prematurely optimizing code.\n",
        "- Often if you are doing a loop, there is a function that is faster.  You might not care for small data applications.\n",
        "- Keep in mind the [Zen of Python](https://www.python.org/dev/peps/pep-0020/#id3) when writing `for` statements."
      ],
      "metadata": {
        "id": "bh8HuM6buiwS"
      }
    },
    {
      "cell_type": "code",
      "source": [
        "candidate = [30, \"Developer\", \"UUM\", 2021]\n",
        "for feature in candidate:\n",
        "  print(feature)"
      ],
      "metadata": {
        "id": "3Xq05IgrBUaJ"
      },
      "execution_count": null,
      "outputs": []
    },
    {
      "cell_type": "markdown",
      "source": [
        "## Exercise 3: \n",
        "\n",
        "**Task**\n",
        "\n",
        "The provided code stub reads and integer, $n$ , from STDIN. For all non-negative integers , $i < n$, print $i$.\n",
        "\n",
        "**Example**\n",
        "\n",
        "The list of non-negative integers that are less than $n = 3$ is $[0, 1, 2]$. Print the square of each number on a separate line.\n",
        "\n",
        "$0$\n",
        "\n",
        "$1$\n",
        "\n",
        "$4$\n",
        "\n",
        "**Input Format**\n",
        "\n",
        "The first and only line contains the integer, `n`\n",
        "\n",
        "**Constraints**\n",
        "\n",
        "$1 \\leq n \\leq 20$\n",
        "\n",
        "\n"
      ],
      "metadata": {
        "id": "D4tNv9zpDwGr"
      }
    },
    {
      "cell_type": "code",
      "source": [
        "#Excerise 3\n",
        "#Hint create a variable to store a list, and store the number into the list\n",
        "if __name__ == '__main__':\n",
        "    n = int(input())"
      ],
      "metadata": {
        "id": "EEjOVr9wGCC_"
      },
      "execution_count": null,
      "outputs": []
    },
    {
      "cell_type": "markdown",
      "source": [
        "**Essential Data Structures/Collections**\n",
        "Basically, Python data structure revolved around list, tuple, set and dictionary. Most Python programmers identified these data structures as Python collections.\n",
        "\n",
        "\n",
        "\n",
        "1.   **List** is a collection used to store multiple items in a single variable. For example, to create a list:\n",
        "```python\n",
        "thislist = [\"apple\", \"banana\", \"cherry\"]<br>\n",
        "print(thislist)\n",
        "```\n",
        "It is also can be used to store different data types:<br>\n",
        "```python\n",
        "list1 = [\"abc\", 34, True, 40, \"male\"]\n",
        "print(list1)\n",
        "```\n",
        "\n",
        "2.   **Tuple** is a collection used to store multiple items in a single variable. Data stored in tuple is ordered, unchangeable and allows duplicate members. <br>\n",
        "```python\n",
        "thistuple = (\"apple\", \"banana\", \"cherry\")\n",
        "print(thistuple)\n",
        "```\n",
        "\n",
        "3.  **Set** is a collection used to store unordered, unindexed non duplicate members. It is also an unchangeable collection, but you can remove items and add new items. To create a set:<br>\n",
        "```python\n",
        "thisset = {\"apple\", \"banana\", \"cherry\", \"apple\"}\n",
        "print(thisset)\n",
        "```\n",
        "\n",
        "4. **Dictionary** is a collection which is ordered and changeable, with duplicate members. It is used to store data values in key:value pairs. To create a list: <br>\n",
        "```python \n",
        "capitals = {\"USA\":\"Washington D.C.\", \"France\":\"Paris\", \"India\":\"New Delhi\"}\n",
        "print(capitals)\n",
        "```\n",
        "\n",
        "**List** | **Tuple** | **Set** | **Dictionary**\n",
        "--- | --- | --- | ---\n",
        "Allows duplicate members | Allows duplicate members | No duplicate members | No duplicate members\n",
        "Changeable | Not changeable | Not changeable but can be added, non indexed | Changeable and Indexed\n",
        "Ordered | Ordered | Unordered | Unordered\n",
        "Square Brackets [] | Round Brackets () | Curly brackets {} | Curly brackets {}\n",
        "\n"
      ],
      "metadata": {
        "id": "DKs-7qv-HPoy"
      }
    },
    {
      "cell_type": "code",
      "source": [],
      "metadata": {
        "id": "dqHUt_L-E2Wd"
      },
      "execution_count": null,
      "outputs": []
    },
    {
      "cell_type": "markdown",
      "source": [
        "## Exercise 4: \n",
        "### ***collections.OrderedDict***\n",
        "An OrderedDict is a dictionary that remembers the order of the keys that were inserted first. If a new entry overwrites an existing entry, the original insertion position is left unchanged.\n",
        "\n",
        "```python\n",
        "from collections import OrderedDict\n",
        "\n",
        "ordinary_dictionary = {}\n",
        "ordinary_dictionary['a'] = 1\n",
        "ordinary_dictionary['b'] = 2\n",
        "ordinary_dictionary['c'] = 3\n",
        "ordinary_dictionary['d'] = 4\n",
        "ordinary_dictionary['e'] = 5\n",
        "\n",
        "print(ordinary_dictionary)\n",
        "# {'a': 1, 'c': 3, 'b': 2, 'e': 5, 'd': 4}\n",
        "\n",
        "ordered_dictionary = OrderedDict()\n",
        "ordered_dictionary['a'] = 1\n",
        "ordered_dictionary['b'] = 2\n",
        "ordered_dictionary['c'] = 3\n",
        "ordered_dictionary['d'] = 4\n",
        "ordered_dictionary['e'] = 5\n",
        "\n",
        "print(ordered_dictionary)\n",
        "# OrderedDict([('a', 1), ('b', 2), ('c', 3), ('d', 4), ('e', 5)])\n",
        "```\n",
        "\n",
        "### ***Task***\n",
        "\n",
        "You are the manager of a supermarket.\n",
        "You have a list of  items together with their prices that consumers bought on a particular day.\n",
        "Your task is to print each item_name and net_price in order of its first occurrence.\n",
        "\n",
        "```\n",
        "item_name = Name of the item.\n",
        "net_price = Quantity of the item sold multiplied by the price of each item.\n",
        "```\n",
        "### ***Input Format***\n",
        "\n",
        "The first line contains the number of items, .\n",
        "The next `N` lines contains the item's name and price, separated by a space.\n",
        "\n",
        "### ***Constraints***\n",
        "$0 < N \\leq 100$\n",
        "\n",
        "### ***Output Format***\n",
        "Print the `item_name` and `net_price` in order of its first occurrence.\n",
        "\n",
        "### ***Sample Input***\n",
        "```\n",
        "9\n",
        "BANANA FRIES 12\n",
        "POTATO CHIPS 30\n",
        "APPLE JUICE 10\n",
        "CANDY 5\n",
        "APPLE JUICE 10\n",
        "CANDY 5\n",
        "CANDY 5\n",
        "CANDY 5\n",
        "POTATO CHIPS 30\n",
        "```\n",
        "\n",
        "### ***Sample Output***\n",
        "```\n",
        "BANANA FRIES 12\n",
        "POTATO CHIPS 60\n",
        "APPLE JUICE 20\n",
        "CANDY 20\n",
        "```"
      ],
      "metadata": {
        "id": "bxJMxJVXIXr_"
      }
    },
    {
      "cell_type": "code",
      "source": [
        "#Enter your code here"
      ],
      "metadata": {
        "id": "KD2Y2L75ohpM"
      },
      "execution_count": null,
      "outputs": []
    },
    {
      "cell_type": "markdown",
      "source": [
        "#***Predicting Employees Behaviour***\n",
        "\n",
        "##***Why Do Employees Quit Their Jobs?***\n",
        "\n",
        "Employees quit their job for many reasons. They follow spouses or partners across the country, stay home with children, change careers, find upwardly mobile career promotions, and go back to school. Those reasons are tough to address by an employer because they involve life events in the employee’s world outside of work.\n",
        "\n",
        "But, the majority of reasons why employees quit their job are under the control of the employer. In fact, any element of your current workplace, your culture, and environment, the employee’s perception of his or her job, and opportunities are all factors that the employer affects. **It is a great loss for company if the most valuable employee leaves due to the job dissatisfaction.**\n",
        "\n",
        "##**Can we predict which valuable employees will leave next?**\n",
        "\n",
        "Yes (given sufficient data), and we are going to discover how to do this by using one HR related data.\n",
        "\n"
      ],
      "metadata": {
        "id": "mXp1Fc-e8kPH"
      }
    }
  ]
}
